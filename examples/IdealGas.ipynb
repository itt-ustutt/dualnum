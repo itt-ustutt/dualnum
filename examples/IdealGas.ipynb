{
 "cells": [
  {
   "cell_type": "code",
   "execution_count": 1,
   "metadata": {},
   "outputs": [],
   "source": [
    "from hyperdual import *\n",
    "import numpy as np"
   ]
  },
  {
   "cell_type": "code",
   "execution_count": 112,
   "metadata": {},
   "outputs": [],
   "source": [
    "RGAS = 8.314\n",
    "H = 6.62607015e-34\n",
    "NAV = 6.02214076e23\n",
    "\n",
    "class EquationOfState:\n",
    "    def pressure(self, T, V, n):\n",
    "        return -self.helmholtz_energy(T, derive1(V), n).first_derivative\n",
    "\n",
    "    def entropy(self, T, V, n):\n",
    "        return -self.helmholtz_energy(derive1(T), V, n).first_derivative\n",
    "\n",
    "    def chemical_potential(self, T, V, n):\n",
    "        return self.helmholtz_energy(T, V, derive1(n)).first_derivative\n",
    "\n",
    "    def isochoric_heat_capacity(self, T, V, n):\n",
    "        return -self.helmholtz_energy(derive2(T), V, n).second_derivative*T/sum(n)\n",
    "\n",
    "class IdealGas(EquationOfState):\n",
    "    def __init__(self, MW):\n",
    "        self.MW = MW\n",
    "\n",
    "    def helmholtz_energy(self, T, V, n):\n",
    "        de_broglie_lambda = [H*NAV/np.sqrt(2*np.pi*MWi*RGAS*T) for MWi in self.MW]\n",
    "        return RGAS*T*sum(ni*(np.log(ni*NAV/V*li**3)-1) for ni,li in zip(n, de_broglie_lambda))"
   ]
  },
  {
   "cell_type": "code",
   "execution_count": 113,
   "metadata": {},
   "outputs": [],
   "source": [
    "def helmholtz_energy(t, v, n, mw):\n",
    "    H = 6.62607015e-34\n",
    "    NAV = 6.02214076e23\n",
    "    RGAS = 8.314\n",
    "    if isinstance(n, list):\n",
    "        n = np.array(n)\n",
    "    de_broglie = H * NAV / np.sqrt(2.0 * np.pi * mw * RGAS * t)\n",
    "    partial_density = n * NAV / V\n",
    "    return RGAS * t * np.sum(n * (np.log(partial_density * de_broglie**3) - 1))"
   ]
  },
  {
   "cell_type": "code",
   "execution_count": 114,
   "metadata": {},
   "outputs": [],
   "source": [
    "ig = IdealGas([39.948e-3, 4e-3])\n",
    "mw = np.array([39.948e-3, 4e-3])"
   ]
  },
  {
   "cell_type": "code",
   "execution_count": 115,
   "metadata": {},
   "outputs": [],
   "source": [
    "T = 300\n",
    "V = 20\n",
    "n = np.array([3, 2])"
   ]
  },
  {
   "cell_type": "code",
   "execution_count": 125,
   "metadata": {},
   "outputs": [
    {
     "output_type": "execute_result",
     "data": {
      "text/plain": [
       "[-54192.23064420561, -46593.74696257142]"
      ]
     },
     "metadata": {},
     "execution_count": 125
    }
   ],
   "source": [
    "ig.helmholtz_energy(T, V, derive1(n)).first_derivative"
   ]
  },
  {
   "cell_type": "code",
   "execution_count": 122,
   "metadata": {},
   "outputs": [
    {
     "output_type": "execute_result",
     "data": {
      "text/plain": [
       "-956.4722861925324"
      ]
     },
     "metadata": {},
     "execution_count": 122
    }
   ],
   "source": [
    "helmholtz_energy(derive2(T), V, n, mw).first_derivative"
   ]
  },
  {
   "cell_type": "code",
   "execution_count": 25,
   "metadata": {},
   "outputs": [
    {
     "output_type": "execute_result",
     "data": {
      "text/plain": [
       "-258275.04242790327 + -923.2755580930109v1 + -0.20786249999999995v2"
      ]
     },
     "metadata": {},
     "execution_count": 25
    }
   ],
   "source": [
    "helmholtz_energy(derive2(T), V, n, np.array([39.948e-3, 4e-3]))"
   ]
  },
  {
   "cell_type": "code",
   "execution_count": 6,
   "metadata": {},
   "outputs": [
    {
     "data": {
      "text/plain": [
       "(12.470999999999997, 12.471)"
      ]
     },
     "execution_count": 6,
     "metadata": {},
     "output_type": "execute_result"
    }
   ],
   "source": [
    "ig.isochoric_heat_capacity(T, V, n),RGAS*1.5"
   ]
  },
  {
   "cell_type": "code",
   "execution_count": 7,
   "metadata": {},
   "outputs": [
    {
     "data": {
      "text/plain": [
       "[-54192.23064420561, -46593.74696257142]"
      ]
     },
     "execution_count": 7,
     "metadata": {},
     "output_type": "execute_result"
    }
   ],
   "source": [
    "ig.chemical_potential(T, V, n)"
   ]
  },
  {
   "cell_type": "code",
   "execution_count": 72,
   "metadata": {},
   "outputs": [
    {
     "output_type": "execute_result",
     "data": {
      "text/plain": [
       "[[831.3999999999999, 0.0], [0.0, 1247.1]]"
      ]
     },
     "metadata": {},
     "execution_count": 72
    }
   ],
   "source": [
    "helmholtz_energy(T, V, derive2(n), mw).second_derivative"
   ]
  },
  {
   "cell_type": "code",
   "execution_count": 73,
   "metadata": {},
   "outputs": [
    {
     "output_type": "execute_result",
     "data": {
      "text/plain": [
       "[[831.3999999999999, 0.0], [0.0, 1247.1]]"
      ]
     },
     "metadata": {},
     "execution_count": 73
    }
   ],
   "source": [
    "ig.helmholtz_energy(T, V, derive2(n)).second_derivative"
   ]
  },
  {
   "cell_type": "code",
   "execution_count": 108,
   "metadata": {},
   "outputs": [
    {
     "output_type": "stream",
     "name": "stdout",
     "text": [
      "[0.00000000036639849424242127 + [-0.0000000000018319924712121065, 0]ε1 + [0.00000000012213283141414042, 0]ε2 + [[-0.0000000000006106641570707021, 0], [0, 0]]ε1ε2\n 0.000000007709300884404495 + [-0.000000000038546504422022466, 0]ε1 + [0, 0.000000003854650442202248]ε2 + [[0, -0.000000000019273252211011233], [0, 0]]ε1ε2]\n300 + [1, 0]ε1 + [0, 0]ε2 + [[0, 0], [0, 0]]ε1ε2 20 + [0, 1]ε1 + [0, 0]ε2 + [[0, 0], [0, 0]]ε1ε2 [3 + [0, 0]ε1 + [1, 0]ε2 + [[0, 0], [0, 0]]ε1ε2, 2 + [0, 0]ε1 + [0, 1]ε2 + [[0, 0], [0, 0]]ε1ε2]\n[0.00000000036639849424242127 + [-0.0000000000018319924712121065, 0]ε1 + [0.00000000012213283141414042, 0]ε2 + [[-0.0000000000006106641570707021, 0], [0, 0]]ε1ε2\n 0.000000007709300884404495 + [-0.000000000038546504422022466, 0]ε1 + [0, 0.000000003854650442202248]ε2 + [[0, -0.000000000019273252211011233], [0, 0]]ε1ε2]\n"
     ]
    },
    {
     "output_type": "execute_result",
     "data": {
      "text/plain": [
       "[[-193.11176881401872, -167.7834898752381], [0.0, 0.0]]"
      ]
     },
     "metadata": {},
     "execution_count": 108
    }
   ],
   "source": [
    "[Td, Vd], nd = derive2([T, V], n)\n",
    "[AT, AV], An = helmholtz_energy(Td, Vd, nd, mw).first_derivative\n",
    "print(Td, Vd, nd)\n",
    "helmholtz_energy(Td, Vd, nd, mw).second_derivative"
   ]
  },
  {
   "cell_type": "code",
   "execution_count": 109,
   "metadata": {},
   "outputs": [
    {
     "output_type": "stream",
     "name": "stdout",
     "text": [
      "0.00000000036639849424242127 + [-0.0000000000018319924712121065, -0.000000000018319924712121065]ε1 + [0.00000000012213283141414042, 0]ε2 + [[-0.0000000000006106641570707021, 0], [-0.000000000006106641570707022, 0]]ε1ε2\n300 + [1, 0]ε1 + [0, 0]ε2 + [[0, 0], [0, 0]]ε1ε2 20 + [0, 1]ε1 + [0, 0]ε2 + [[0, 0], [0, 0]]ε1ε2 [3 + [0, 0]ε1 + [1, 0]ε2 + [[0, 0], [0, 0]]ε1ε2, 2 + [0, 0]ε1 + [0, 1]ε2 + [[0, 0], [0, 0]]ε1ε2]\n0.00000000036639849424242127 + [-0.0000000000018319924712121065, -0.000000000018319924712121065]ε1 + [0.00000000012213283141414042, 0]ε2 + [[-0.0000000000006106641570707021, 0], [-0.000000000006106641570707022, 0]]ε1ε2\n"
     ]
    },
    {
     "output_type": "execute_result",
     "data": {
      "text/plain": [
       "[[-193.11176881401872, -167.7834898752381],\n",
       " [-124.71000000000005, -124.71000000000002]]"
      ]
     },
     "metadata": {},
     "execution_count": 109
    }
   ],
   "source": [
    "[Td, Vd], nd = derive2([T, V], n)\n",
    "[AT, AV], An = ig.helmholtz_energy(Td, Vd, nd).first_derivative\n",
    "print(Td, Vd, nd)\n",
    "ig.helmholtz_energy(Td, Vd, nd).second_derivative"
   ]
  },
  {
   "cell_type": "code",
   "execution_count": 11,
   "metadata": {},
   "outputs": [
    {
     "data": {
      "text/plain": [
       "HyperDualMN64"
      ]
     },
     "execution_count": 11,
     "metadata": {},
     "output_type": "execute_result"
    }
   ],
   "source": [
    "Td.__class__"
   ]
  },
  {
   "cell_type": "code",
   "execution_count": 13,
   "metadata": {},
   "outputs": [
    {
     "data": {
      "text/plain": [
       "-268235.1858577597 + -956.4722861925324ε1 + -623.5500000000001ε2 + -2.078500000000001ε1ε2"
      ]
     },
     "execution_count": 13,
     "metadata": {},
     "output_type": "execute_result"
    }
   ],
   "source": [
    "ig.helmholtz_energy(*derive2(T, V), n)"
   ]
  },
  {
   "cell_type": "code",
   "execution_count": 14,
   "metadata": {},
   "outputs": [
    {
     "data": {
      "text/plain": [
       "(3.1177500000000005, 3.11775)"
      ]
     },
     "execution_count": 14,
     "metadata": {},
     "output_type": "execute_result"
    }
   ],
   "source": [
    "-ig.helmholtz_energy(T, derive3(V), n).third_derivative,2*sum(n)*RGAS*T/V**3"
   ]
  },
  {
   "cell_type": "code",
   "execution_count": null,
   "metadata": {},
   "outputs": [],
   "source": []
  }
 ],
 "metadata": {
  "kernelspec": {
   "name": "python3",
   "display_name": "Python 3",
   "language": "python"
  },
  "language_info": {
   "codemirror_mode": {
    "name": "ipython",
    "version": 3
   },
   "file_extension": ".py",
   "mimetype": "text/x-python",
   "name": "python",
   "nbconvert_exporter": "python",
   "pygments_lexer": "ipython3",
   "version": "3.8.1"
  }
 },
 "nbformat": 4,
 "nbformat_minor": 4
}