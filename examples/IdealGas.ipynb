{
 "cells": [
  {
   "cell_type": "code",
   "execution_count": 4,
   "metadata": {},
   "outputs": [],
   "source": [
    "from dualnum import *\n",
    "import numpy as np"
   ]
  },
  {
   "cell_type": "code",
   "execution_count": 5,
   "metadata": {},
   "outputs": [],
   "source": [
    "RGAS = 8.314\n",
    "H = 6.62607015e-34\n",
    "NAV = 6.02214076e23\n",
    "\n",
    "class EquationOfState:\n",
    "    def pressure(self, T, V, n):\n",
    "        return -self.helmholtz_energy(T, derive1(V), n).first_derivative\n",
    "\n",
    "    def entropy(self, T, V, n):\n",
    "        return -self.helmholtz_energy(derive1(T), V, n).first_derivative\n",
    "\n",
    "    def chemical_potential(self, T, V, n):\n",
    "        return self.helmholtz_energy(T, V, derive1(n)).first_derivative\n",
    "\n",
    "    def isochoric_heat_capacity(self, T, V, n):\n",
    "        return -self.helmholtz_energy(derive2(T), V, n).second_derivative*T/sum(n)\n",
    "\n",
    "class IdealGas(EquationOfState):\n",
    "    def __init__(self, MW):\n",
    "        self.MW = MW\n",
    "\n",
    "    def helmholtz_energy(self, T, V, n):\n",
    "        de_broglie_lambda = [H*NAV/np.sqrt(2*np.pi*MWi*RGAS*T) for MWi in self.MW]\n",
    "        return RGAS*T*sum(ni*(np.log(ni*NAV/V*li**3)-1) for ni,li in zip(n, de_broglie_lambda))"
   ]
  },
  {
   "cell_type": "code",
   "execution_count": 6,
   "metadata": {},
   "outputs": [],
   "source": [
    "def helmholtz_energy(t, v, n, mw):\n",
    "    H = 6.62607015e-34\n",
    "    NAV = 6.02214076e23\n",
    "    RGAS = 8.314\n",
    "    if isinstance(n, list):\n",
    "        n = np.array(n)\n",
    "    de_broglie = H * NAV / np.sqrt(2.0 * np.pi * mw * RGAS * t)\n",
    "    partial_density = n * NAV / V\n",
    "    return RGAS * t * np.sum(n * (np.log(partial_density * de_broglie**3) - 1))"
   ]
  },
  {
   "cell_type": "code",
   "execution_count": 7,
   "metadata": {},
   "outputs": [],
   "source": [
    "ig = IdealGas([39.948e-3, 4e-3])\n",
    "mw = np.array([39.948e-3, 4e-3])"
   ]
  },
  {
   "cell_type": "code",
   "execution_count": 8,
   "metadata": {},
   "outputs": [],
   "source": [
    "T = 300\n",
    "V = 20\n",
    "n = np.array([3, 2])"
   ]
  },
  {
   "cell_type": "code",
   "execution_count": 22,
   "metadata": {},
   "outputs": [
    {
     "data": {
      "text/plain": [
       "[[831.3999999999999, 0.0], [0.0, 1247.1]]"
      ]
     },
     "execution_count": 22,
     "metadata": {},
     "output_type": "execute_result"
    }
   ],
   "source": [
    "ig.helmholtz_energy(T, V, derive2(n)).second_derivative"
   ]
  },
  {
   "cell_type": "code",
   "execution_count": 23,
   "metadata": {},
   "outputs": [
    {
     "data": {
      "text/plain": [
       "[[831.3999999999999, 0.0], [0.0, 1247.1]]"
      ]
     },
     "execution_count": 23,
     "metadata": {},
     "output_type": "execute_result"
    }
   ],
   "source": [
    "helmholtz_energy(T, V, derive2(n), mw).second_derivative"
   ]
  },
  {
   "cell_type": "code",
   "execution_count": 28,
   "metadata": {},
   "outputs": [
    {
     "data": {
      "text/plain": [
       "-0.20784999999999998"
      ]
     },
     "execution_count": 28,
     "metadata": {},
     "output_type": "execute_result"
    }
   ],
   "source": [
    "ig.helmholtz_energy(derive2(T), V, n).second_derivative"
   ]
  },
  {
   "cell_type": "code",
   "execution_count": 29,
   "metadata": {},
   "outputs": [
    {
     "data": {
      "text/plain": [
       "-0.20784999999999998"
      ]
     },
     "execution_count": 29,
     "metadata": {},
     "output_type": "execute_result"
    }
   ],
   "source": [
    "helmholtz_energy(derive2(T), V, n, mw).second_derivative"
   ]
  },
  {
   "cell_type": "code",
   "execution_count": 11,
   "metadata": {},
   "outputs": [
    {
     "data": {
      "text/plain": [
       "-268235.1858577597 + [-956.4722861925324]ε1 + [-0.20784999999999998]ε1²"
      ]
     },
     "execution_count": 11,
     "metadata": {},
     "output_type": "execute_result"
    }
   ],
   "source": [
    "helmholtz_energy(derive2(T), V, n, np.array([39.948e-3, 4e-3]))"
   ]
  },
  {
   "cell_type": "code",
   "execution_count": 12,
   "metadata": {},
   "outputs": [
    {
     "data": {
      "text/plain": [
       "(12.471, 12.471)"
      ]
     },
     "execution_count": 12,
     "metadata": {},
     "output_type": "execute_result"
    }
   ],
   "source": [
    "ig.isochoric_heat_capacity(T, V, n),RGAS*1.5"
   ]
  },
  {
   "cell_type": "code",
   "execution_count": 13,
   "metadata": {},
   "outputs": [
    {
     "data": {
      "text/plain": [
       "[-54192.23064420561, -46593.74696257142]"
      ]
     },
     "execution_count": 13,
     "metadata": {},
     "output_type": "execute_result"
    }
   ],
   "source": [
    "ig.chemical_potential(T, V, n)"
   ]
  },
  {
   "cell_type": "code",
   "execution_count": 14,
   "metadata": {},
   "outputs": [
    {
     "data": {
      "text/plain": [
       "[[831.3999999999999, 0.0], [0.0, 1247.1]]"
      ]
     },
     "execution_count": 14,
     "metadata": {},
     "output_type": "execute_result"
    }
   ],
   "source": []
  },
  {
   "cell_type": "code",
   "execution_count": 15,
   "metadata": {},
   "outputs": [
    {
     "data": {
      "text/plain": [
       "[[831.3999999999999, 0.0], [0.0, 1247.1]]"
      ]
     },
     "execution_count": 15,
     "metadata": {},
     "output_type": "execute_result"
    }
   ],
   "source": [
    "ig.helmholtz_energy(T, V, derive2(n)).second_derivative"
   ]
  },
  {
   "cell_type": "code",
   "execution_count": 16,
   "metadata": {},
   "outputs": [
    {
     "name": "stdout",
     "output_type": "stream",
     "text": [
      "300 + [1, 0]ε1 + [0, 0]ε2 + [[0, 0], [0, 0]]ε1ε2 20 + [0, 1]ε1 + [0, 0]ε2 + [[0, 0], [0, 0]]ε1ε2 [3 + [0, 0]ε1 + [1, 0]ε2 + [[0, 0], [0, 0]]ε1ε2, 2 + [0, 0]ε1 + [0, 1]ε2 + [[0, 0], [0, 0]]ε1ε2]\n"
     ]
    },
    {
     "data": {
      "text/plain": [
       "[[-193.11176881401872, -167.7834898752381], [0.0, 0.0]]"
      ]
     },
     "execution_count": 16,
     "metadata": {},
     "output_type": "execute_result"
    }
   ],
   "source": [
    "[Td, Vd], nd = derive2([T, V], n)\n",
    "[AT, AV], An = helmholtz_energy(Td, Vd, nd, mw).first_derivative\n",
    "print(Td, Vd, nd)\n",
    "helmholtz_energy(Td, Vd, nd, mw).second_derivative"
   ]
  },
  {
   "cell_type": "code",
   "execution_count": 17,
   "metadata": {},
   "outputs": [
    {
     "name": "stdout",
     "output_type": "stream",
     "text": [
      "300 + [1, 0]ε1 + [0, 0]ε2 + [[0, 0], [0, 0]]ε1ε2 20 + [0, 1]ε1 + [0, 0]ε2 + [[0, 0], [0, 0]]ε1ε2 [3 + [0, 0]ε1 + [1, 0]ε2 + [[0, 0], [0, 0]]ε1ε2, 2 + [0, 0]ε1 + [0, 1]ε2 + [[0, 0], [0, 0]]ε1ε2]\n"
     ]
    },
    {
     "data": {
      "text/plain": [
       "[[-193.11176881401872, -167.7834898752381],\n",
       " [-124.71000000000005, -124.71000000000002]]"
      ]
     },
     "execution_count": 17,
     "metadata": {},
     "output_type": "execute_result"
    }
   ],
   "source": [
    "[Td, Vd], nd = derive2([T, V], n)\n",
    "[AT, AV], An = ig.helmholtz_energy(Td, Vd, nd).first_derivative\n",
    "print(Td, Vd, nd)\n",
    "ig.helmholtz_energy(Td, Vd, nd).second_derivative"
   ]
  },
  {
   "cell_type": "code",
   "execution_count": 18,
   "metadata": {},
   "outputs": [
    {
     "data": {
      "text/plain": [
       "HyperDualVec64"
      ]
     },
     "execution_count": 18,
     "metadata": {},
     "output_type": "execute_result"
    }
   ],
   "source": [
    "Td.__class__"
   ]
  },
  {
   "cell_type": "code",
   "execution_count": 19,
   "metadata": {},
   "outputs": [
    {
     "data": {
      "text/plain": [
       "-268235.1858577597 + [-956.4722861925324]ε1 + [-623.5500000000001]ε2 + [-2.078500000000001]ε1ε2"
      ]
     },
     "execution_count": 19,
     "metadata": {},
     "output_type": "execute_result"
    }
   ],
   "source": [
    "ig.helmholtz_energy(*derive2(T, V), n)"
   ]
  },
  {
   "cell_type": "code",
   "execution_count": 20,
   "metadata": {},
   "outputs": [
    {
     "data": {
      "text/plain": [
       "(3.1177500000000005, 3.11775)"
      ]
     },
     "execution_count": 20,
     "metadata": {},
     "output_type": "execute_result"
    }
   ],
   "source": [
    "-ig.helmholtz_energy(T, derive3(V), n).third_derivative,2*sum(n)*RGAS*T/V**3"
   ]
  },
  {
   "cell_type": "code",
   "execution_count": null,
   "metadata": {},
   "outputs": [],
   "source": []
  }
 ],
 "metadata": {
  "kernelspec": {
   "display_name": "Python 3",
   "language": "python",
   "name": "python3"
  },
  "language_info": {
   "codemirror_mode": {
    "name": "ipython",
    "version": 3
   },
   "file_extension": ".py",
   "mimetype": "text/x-python",
   "name": "python",
   "nbconvert_exporter": "python",
   "pygments_lexer": "ipython3",
   "version": "3.8.1"
  }
 },
 "nbformat": 4,
 "nbformat_minor": 4
}
